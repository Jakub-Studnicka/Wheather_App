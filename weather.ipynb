{
 "cells": [
  {
   "cell_type": "code",
   "execution_count": 2,
   "id": "b6f86d7c",
   "metadata": {
    "collapsed": true
   },
   "outputs": [],
   "source": [
    "import tkinter as tk\n",
    "import requests\n",
    "import time\n",
    "\n",
    "\n",
    "def getWeather(canvas):\n",
    "    city = textfield.get()\n",
    "    api = \"https://api.openweathermap.org/data/2.5/weather?q=\" + city +\"&appid=7f25d2062d31a7becdbde4f980d655f0\"\n",
    "    json_data = requests.get(api).json()\n",
    "    condition = json_data['weather'][0]['main']\n",
    "    temp = int(json_data[\"main\"][\"temp\"] - 273.15)\n",
    "    min_temp = int(json_data[\"main\"][\"temp_min\"] - 273.15)\n",
    "    max_temp = int(json_data[\"main\"][\"temp_max\"] - 273.15)\n",
    "    pressure = int(json_data[\"main\"][\"pressure\"])\n",
    "    humidity = int(json_data[\"main\"][\"humidity\"])\n",
    "    wind = json_data[\"wind\"][\"speed\"]\n",
    "    time_zone = int(json_data[\"timezone\"])\n",
    "    sunrise = time.strftime(\"%I:%M:%S\", time.gmtime(json_data[\"sys\"][\"sunrise\"]+ time_zone))\n",
    "    sunset = time.strftime(\"%I:%M:%S\", time.gmtime(json_data[\"sys\"][\"sunset\"]+time_zone))\n",
    "    \n",
    "    final_info = condition + \"\\n\" + str(temp) + \"°C\"\n",
    "    final_data = \"\\n\"+ \"Min Temp: \" + str(min_temp) + \"°C\" + \"\\n\" + \"Max Temp: \" + str(max_temp) + \"°C\" +\"\\n\" + \"Pressure: \" + str(pressure) + \"\\n\" +\"Humidity: \" + str(humidity) + \"\\n\" +\"Wind Speed: \" + str(wind) + \"\\n\" + \"Sunrise: \" + sunrise + \" AM\" + \"\\n\" + \"Sunset: \" + sunset + \" PM\"\n",
    "    label1.config(text = final_info)\n",
    "    label2.config(text = final_data)\n",
    "    \n",
    "canvas = tk.Tk()\n",
    "canvas.geometry(\"1000x500\")\n",
    "canvas.title(\"Weather App\")\n",
    "\n",
    "f = (\"poppins\",15,\"bold\")\n",
    "t = (\"poppins\",35,\"bold\")\n",
    "\n",
    "textfield = tk.Entry(canvas, font = t)\n",
    "textfield.pack(pady = 20)\n",
    "textfield.focus\n",
    "textfield.bind(\"<Return>\", getWeather)\n",
    "\n",
    "label1 = tk.Label(canvas, font = t)\n",
    "label1.pack()\n",
    "label2 = tk.Label(canvas, font = f)\n",
    "label2.pack()\n",
    "\n",
    "canvas.mainloop()"
   ]
  },
  {
   "cell_type": "code",
   "execution_count": null,
   "id": "f6a69a46",
   "metadata": {},
   "outputs": [],
   "source": [
    "https://api.openweathermap.org/data/2.5/weather?lat={lat}&lon={lon}&appid={API key}\n",
    "api.openweathermap.org/data/2.5/weather?q=london&appid=7f25d2062d31a7becdbde4f980d655f0"
   ]
  }
 ],
 "metadata": {
  "kernelspec": {
   "display_name": "Python 3",
   "language": "python",
   "name": "python3"
  },
  "language_info": {
   "codemirror_mode": {
    "name": "ipython",
    "version": 3
   },
   "file_extension": ".py",
   "mimetype": "text/x-python",
   "name": "python",
   "nbconvert_exporter": "python",
   "pygments_lexer": "ipython3",
   "version": "3.8.8"
  }
 },
 "nbformat": 4,
 "nbformat_minor": 5
}
